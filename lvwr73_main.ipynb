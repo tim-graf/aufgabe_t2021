{
 "cells": [
  {
   "cell_type": "markdown",
   "id": "d6745711",
   "metadata": {},
   "source": [
    "# Lösung der Coding-Aufgabe\n",
    "\n",
    "In diesem Jupyter Notebook versuche ich die gestellte [Coding Aufgabe](https://github.com/kvn23/aufgabe_t2021/blob/master/README.md) mit Python zu lösen.\n",
    "<br /> Dabei nutze ich hauptsächlich mir schon vertraute Bibliotheken, insbesondere [Pandas](https://pandas.pydata.org/) und [SQLAlchemy](https://www.sqlalchemy.org/)."
   ]
  },
  {
   "cell_type": "code",
   "execution_count": 1,
   "id": "6aa37c46",
   "metadata": {},
   "outputs": [],
   "source": [
    "import os, json\n",
    "import pandas as pd\n",
    "import numpy as np\n",
    "import sqlite3\n",
    "import sqlalchemy as sa\n",
    "import sqlalchemy_utils as sau\n",
    "\n",
    "from geopy.geocoders import Nominatim\n",
    "gc = Nominatim(user_agent=\"lvwr73\") # siehe https://geopy.readthedocs.io/en/stable/#nominatim"
   ]
  },
  {
   "cell_type": "markdown",
   "id": "e204b500",
   "metadata": {},
   "source": [
    "### 1 Einlesen der Daten"
   ]
  },
  {
   "cell_type": "markdown",
   "id": "acb41505",
   "metadata": {},
   "source": [
    "Öffnen und Konvertieren der SQLite Datenbank in ein Pandas DataFrame:"
   ]
  },
  {
   "cell_type": "code",
   "execution_count": 2,
   "id": "b79f9e56",
   "metadata": {},
   "outputs": [],
   "source": [
    "con = sqlite3.connect(\"sources/fahrten_db.sqlite\")\n",
    "\n",
    "datenbank_df = pd.read_sql_query(\"SELECT * from FAHRTEN\", con).set_index('fahrt_id')\n",
    "\n",
    "con.close()"
   ]
  },
  {
   "cell_type": "markdown",
   "id": "4dc39579",
   "metadata": {},
   "source": [
    "Öffnen und Zusammenfügen der JSON Files in ein Pandas DataFrame:"
   ]
  },
  {
   "cell_type": "code",
   "execution_count": 3,
   "id": "047bf064",
   "metadata": {},
   "outputs": [],
   "source": [
    "path_to_json = 'sources/dta_rechnungen/'\n",
    "\n",
    "# Initialisierung der Liste zur Zwischenspeicherung der einzelnen DFs je JSON file\n",
    "dfs = []\n",
    "\n",
    "# Zuerst wird jedes einzelne JSON file eingelesen, in ein DF konvertiert und auf der dfs Liste angehängt\n",
    "for file_name in [file for file in os.listdir(path_to_json) if file.endswith('.json')]:\n",
    "  with open(path_to_json + file_name) as json_file:\n",
    "    data = pd.read_json(json_file)\n",
    "    dfs.append(data)\n",
    "\n",
    "# Konkatenieren der einzelnen DFs in ein gemeinsames DF mit fahrt_id als Zeilenindizes\n",
    "rechnungen_df = pd.concat(dfs, ignore_index=True).set_index('fahrt_id')"
   ]
  },
  {
   "cell_type": "markdown",
   "id": "4eafe9ec",
   "metadata": {},
   "source": [
    "Zusammenführen der beiden Dataframes:"
   ]
  },
  {
   "cell_type": "code",
   "execution_count": 4,
   "id": "914ff200",
   "metadata": {},
   "outputs": [],
   "source": [
    "# Left Join über Zeilen-Indizes (fahrt_id)\n",
    "merged_df = datenbank_df.join(rechnungen_df, rsuffix=\"_right\")"
   ]
  },
  {
   "cell_type": "markdown",
   "id": "f00caebb",
   "metadata": {},
   "source": [
    "Überprüfung ob Person und Datum je Rechnung mit Daten in Datenbank übereinstimmen:"
   ]
  },
  {
   "cell_type": "code",
   "execution_count": 5,
   "id": "c270a41a",
   "metadata": {},
   "outputs": [
    {
     "data": {
      "text/plain": [
       "True"
      ]
     },
     "execution_count": 5,
     "metadata": {},
     "output_type": "execute_result"
    }
   ],
   "source": [
    "merged_df.iloc[:len(rechnungen_df)].person.equals(merged_df.iloc[:len(rechnungen_df)].person_right)"
   ]
  },
  {
   "cell_type": "code",
   "execution_count": 6,
   "id": "9720868b",
   "metadata": {},
   "outputs": [
    {
     "data": {
      "text/plain": [
       "True"
      ]
     },
     "execution_count": 6,
     "metadata": {},
     "output_type": "execute_result"
    }
   ],
   "source": [
    "merged_df.iloc[:len(rechnungen_df)].datum_fahrt_right.equals(merged_df.iloc[:len(rechnungen_df)].datum_fahrt_right)"
   ]
  },
  {
   "cell_type": "markdown",
   "id": "52ee2801",
   "metadata": {},
   "source": [
    "Entfernen der identischen Spalten:"
   ]
  },
  {
   "cell_type": "code",
   "execution_count": 7,
   "id": "8027c180",
   "metadata": {},
   "outputs": [],
   "source": [
    "merged_df = merged_df.drop([\"person_right\", \"datum_fahrt_right\"], axis=1)"
   ]
  },
  {
   "cell_type": "markdown",
   "id": "e577ba3b",
   "metadata": {},
   "source": [
    "### 2 Ermitteln der Geodaten und Distanzberechnung"
   ]
  },
  {
   "cell_type": "markdown",
   "id": "b06b18a9",
   "metadata": {},
   "source": [
    "Ermitteln der Geodaten via Geopy und Nominatim:"
   ]
  },
  {
   "cell_type": "code",
   "execution_count": 8,
   "id": "bc6c7d22",
   "metadata": {},
   "outputs": [],
   "source": [
    "# Listen mit jeweils Start- und Zieladressen\n",
    "starts = list(merged_df[\"start\"])\n",
    "ziele = list(merged_df[\"ziel\"])\n",
    "\n",
    "# Initialisierung der Listen, welche später Spalten im DF bilden\n",
    "start_latitude = []\n",
    "start_longitude = []\n",
    "ziel_latitude = []\n",
    "ziel_longitude = []\n",
    "\n",
    "# Reihenweise Ermittlung der Geodaten zu den Startadressen\n",
    "for row in starts:\n",
    "    geoc = gc.geocode(row)\n",
    "    if geoc is not None:\n",
    "        start_latitude.append(geoc.latitude)\n",
    "        start_longitude.append(geoc.longitude)\n",
    "    else:\n",
    "        start_latitude.append(np.nan)\n",
    "        start_longitude.append(np.nan)\n",
    "\n",
    "# Reihenweise Ermittlung der Geodaten zu den Zieladressen\n",
    "for row in ziele:\n",
    "    geoc = gc.geocode(row)\n",
    "    if geoc is not None:\n",
    "        ziel_latitude.append(geoc.latitude)\n",
    "        ziel_longitude.append(geoc.longitude)\n",
    "    else:\n",
    "        ziel_latitude.append(np.nan)\n",
    "        ziel_longitude.append(np.nan)"
   ]
  },
  {
   "cell_type": "code",
   "execution_count": 9,
   "id": "896f4aca",
   "metadata": {},
   "outputs": [],
   "source": [
    "# Einfügen der Listen als Spalten in das DF\n",
    "merged_df[\"start_latitude\"] = start_latitude\n",
    "merged_df[\"start_longitude\"] = start_longitude\n",
    "merged_df[\"ziel_latitude\"] = ziel_latitude\n",
    "merged_df[\"ziel_longitude\"] = ziel_longitude"
   ]
  },
  {
   "cell_type": "markdown",
   "id": "91511606",
   "metadata": {},
   "source": [
    "Berechnung der Distanzen mit der Haversine Formel, basierend auf https://www.tjansson.dk/2021/03/vectorized-gps-distance-speed-calculation-for-pandas/:"
   ]
  },
  {
   "cell_type": "code",
   "execution_count": 10,
   "id": "7e6e6365",
   "metadata": {},
   "outputs": [],
   "source": [
    "def haversine(lon1, lat1, lon2, lat2):                                                                                                                                   \n",
    "    lon1, lat1, lon2, lat2 = map(np.radians, [lon1, lat1, lon2, lat2])                                                  \n",
    "    a = np.sin((lat2 - lat1) / 2.0)**2 + (np.cos(lat1) * np.cos(lat2) * np.sin((lon2 - lon1) / 2.0)**2)                 \n",
    "    distance = 6371 * 2 * np.arcsin(np.sqrt(a))                                                                         \n",
    "    return distance"
   ]
  },
  {
   "cell_type": "code",
   "execution_count": 11,
   "id": "4bc47d19",
   "metadata": {},
   "outputs": [],
   "source": [
    "# Neue Spalte in DF für die Distanz einfügen und berechnen der Werte via Klasse haversine()\n",
    "merged_df[\"distanz\"] = haversine(merged_df[\"start_longitude\"], merged_df[\"start_latitude\"], merged_df[\"ziel_longitude\"], merged_df[\"ziel_latitude\"])"
   ]
  },
  {
   "cell_type": "markdown",
   "id": "d34c61e6",
   "metadata": {},
   "source": [
    "### 3 Kurze Zwischenanalyse der Daten"
   ]
  },
  {
   "cell_type": "code",
   "execution_count": 12,
   "id": "f2a869a5",
   "metadata": {},
   "outputs": [
    {
     "name": "stdout",
     "output_type": "stream",
     "text": [
      "<class 'pandas.core.frame.DataFrame'>\n",
      "Index: 60 entries, bf0001 to bf0060\n",
      "Data columns (total 11 columns):\n",
      " #   Column           Non-Null Count  Dtype  \n",
      "---  ------           --------------  -----  \n",
      " 0   person           60 non-null     object \n",
      " 1   datum_fahrt      60 non-null     object \n",
      " 2   start            60 non-null     object \n",
      " 3   ziel             60 non-null     object \n",
      " 4   datum_rechnung   30 non-null     object \n",
      " 5   betrag_rechnung  30 non-null     object \n",
      " 6   start_latitude   56 non-null     float64\n",
      " 7   start_longitude  56 non-null     float64\n",
      " 8   ziel_latitude    60 non-null     float64\n",
      " 9   ziel_longitude   60 non-null     float64\n",
      " 10  distanz          56 non-null     float64\n",
      "dtypes: float64(5), object(6)\n",
      "memory usage: 7.7+ KB\n"
     ]
    }
   ],
   "source": [
    "merged_df.info()"
   ]
  },
  {
   "cell_type": "markdown",
   "id": "6c821670",
   "metadata": {},
   "source": [
    "Auffälligkeiten:\n",
    "- Es fehlen die Rechnungsdaten in 30 Zeilen (da auch nur 30 JSON files / Rechnungen vorhanden waren)\n",
    "- Zu vier der 60 Startadressen konnten keine Geodaten ermittelt werden, wodurch in diesen Zeilen keine Distanzen errechnet werden konnten.\n",
    "- Alternativ könnte die Spalte \"betrag_rechnung\" zu Float konvertiert werden"
   ]
  },
  {
   "cell_type": "code",
   "execution_count": 13,
   "id": "8d673a54",
   "metadata": {},
   "outputs": [
    {
     "data": {
      "text/html": [
       "<div>\n",
       "<style scoped>\n",
       "    .dataframe tbody tr th:only-of-type {\n",
       "        vertical-align: middle;\n",
       "    }\n",
       "\n",
       "    .dataframe tbody tr th {\n",
       "        vertical-align: top;\n",
       "    }\n",
       "\n",
       "    .dataframe thead th {\n",
       "        text-align: right;\n",
       "    }\n",
       "</style>\n",
       "<table border=\"1\" class=\"dataframe\">\n",
       "  <thead>\n",
       "    <tr style=\"text-align: right;\">\n",
       "      <th></th>\n",
       "      <th>person</th>\n",
       "      <th>datum_fahrt</th>\n",
       "      <th>start</th>\n",
       "      <th>ziel</th>\n",
       "      <th>datum_rechnung</th>\n",
       "      <th>betrag_rechnung</th>\n",
       "      <th>start_latitude</th>\n",
       "      <th>start_longitude</th>\n",
       "      <th>ziel_latitude</th>\n",
       "      <th>ziel_longitude</th>\n",
       "      <th>distanz</th>\n",
       "    </tr>\n",
       "    <tr>\n",
       "      <th>fahrt_id</th>\n",
       "      <th></th>\n",
       "      <th></th>\n",
       "      <th></th>\n",
       "      <th></th>\n",
       "      <th></th>\n",
       "      <th></th>\n",
       "      <th></th>\n",
       "      <th></th>\n",
       "      <th></th>\n",
       "      <th></th>\n",
       "      <th></th>\n",
       "    </tr>\n",
       "  </thead>\n",
       "  <tbody>\n",
       "    <tr>\n",
       "      <th>bf0003</th>\n",
       "      <td>O2577</td>\n",
       "      <td>2021-03-20</td>\n",
       "      <td>Repgostraße 2, 50931 Köln</td>\n",
       "      <td>Bergstraße 6-12, 42105 Wuppertal</td>\n",
       "      <td>2021-04-13</td>\n",
       "      <td>94 EUR</td>\n",
       "      <td>NaN</td>\n",
       "      <td>NaN</td>\n",
       "      <td>51.259594</td>\n",
       "      <td>7.143416</td>\n",
       "      <td>NaN</td>\n",
       "    </tr>\n",
       "    <tr>\n",
       "      <th>bf0007</th>\n",
       "      <td>S1650</td>\n",
       "      <td>2021-03-31</td>\n",
       "      <td>Vitalistraße 202, 50827 Köln</td>\n",
       "      <td>Ostmerheimer Str. 200, 51109 Köln</td>\n",
       "      <td>2021-04-18</td>\n",
       "      <td>412 EUR</td>\n",
       "      <td>NaN</td>\n",
       "      <td>NaN</td>\n",
       "      <td>50.939504</td>\n",
       "      <td>7.053428</td>\n",
       "      <td>NaN</td>\n",
       "    </tr>\n",
       "    <tr>\n",
       "      <th>bf0033</th>\n",
       "      <td>T6309</td>\n",
       "      <td>2021-05-08</td>\n",
       "      <td>Repgostraße 2, 50931 Köln</td>\n",
       "      <td>Vogelsangstraße 106, 42109 Wuppertal</td>\n",
       "      <td>NaN</td>\n",
       "      <td>NaN</td>\n",
       "      <td>NaN</td>\n",
       "      <td>NaN</td>\n",
       "      <td>51.275106</td>\n",
       "      <td>7.141964</td>\n",
       "      <td>NaN</td>\n",
       "    </tr>\n",
       "    <tr>\n",
       "      <th>bf0050</th>\n",
       "      <td>W4353</td>\n",
       "      <td>2021-05-23</td>\n",
       "      <td>Vitalistraße 202, 50827 Köln</td>\n",
       "      <td>Ostmerheimer Str. 200, 51109 Köln</td>\n",
       "      <td>NaN</td>\n",
       "      <td>NaN</td>\n",
       "      <td>NaN</td>\n",
       "      <td>NaN</td>\n",
       "      <td>50.939504</td>\n",
       "      <td>7.053428</td>\n",
       "      <td>NaN</td>\n",
       "    </tr>\n",
       "  </tbody>\n",
       "</table>\n",
       "</div>"
      ],
      "text/plain": [
       "         person datum_fahrt                         start  \\\n",
       "fahrt_id                                                    \n",
       "bf0003    O2577  2021-03-20     Repgostraße 2, 50931 Köln   \n",
       "bf0007    S1650  2021-03-31  Vitalistraße 202, 50827 Köln   \n",
       "bf0033    T6309  2021-05-08     Repgostraße 2, 50931 Köln   \n",
       "bf0050    W4353  2021-05-23  Vitalistraße 202, 50827 Köln   \n",
       "\n",
       "                                          ziel datum_rechnung betrag_rechnung  \\\n",
       "fahrt_id                                                                        \n",
       "bf0003        Bergstraße 6-12, 42105 Wuppertal     2021-04-13          94 EUR   \n",
       "bf0007       Ostmerheimer Str. 200, 51109 Köln     2021-04-18         412 EUR   \n",
       "bf0033    Vogelsangstraße 106, 42109 Wuppertal            NaN             NaN   \n",
       "bf0050       Ostmerheimer Str. 200, 51109 Köln            NaN             NaN   \n",
       "\n",
       "          start_latitude  start_longitude  ziel_latitude  ziel_longitude  \\\n",
       "fahrt_id                                                                   \n",
       "bf0003               NaN              NaN      51.259594        7.143416   \n",
       "bf0007               NaN              NaN      50.939504        7.053428   \n",
       "bf0033               NaN              NaN      51.275106        7.141964   \n",
       "bf0050               NaN              NaN      50.939504        7.053428   \n",
       "\n",
       "          distanz  \n",
       "fahrt_id           \n",
       "bf0003        NaN  \n",
       "bf0007        NaN  \n",
       "bf0033        NaN  \n",
       "bf0050        NaN  "
      ]
     },
     "execution_count": 13,
     "metadata": {},
     "output_type": "execute_result"
    }
   ],
   "source": [
    "# Anzeigen der Zeilen mit evtl. fehlerhaften Startadressen\n",
    "faulty_rows = merged_df[merged_df[\"start_longitude\"].isnull()].index\n",
    "merged_df.loc[faulty_rows]"
   ]
  },
  {
   "cell_type": "markdown",
   "id": "3dadadd9",
   "metadata": {},
   "source": [
    "Nach einer kurzen Google-Suche stellt sich heraus, dass die korrekten Schreibweisen der beiden Straßennamen \"Repgowstraße\" und \"Vitalisstraße\" lauten."
   ]
  },
  {
   "cell_type": "markdown",
   "id": "e487e4a6",
   "metadata": {},
   "source": [
    "### 4 Korrigieren der Zeilen mit fehlerhaften Adressen"
   ]
  },
  {
   "cell_type": "markdown",
   "id": "f59663a6",
   "metadata": {},
   "source": [
    "Korrigieren der Adressen:"
   ]
  },
  {
   "cell_type": "code",
   "execution_count": 14,
   "id": "a030e04e",
   "metadata": {},
   "outputs": [],
   "source": [
    "# Dictionary mit Korrekturen\n",
    "to_replace = {\"Repgostraße\": \"Repgowstraße\",\n",
    "              \"Vitalistraße\" : \"Vitalisstraße\"}\n",
    "\n",
    "# Strings ersetzen\n",
    "merged_df[\"start\"] = merged_df[\"start\"].replace(to_replace, regex=True)"
   ]
  },
  {
   "cell_type": "markdown",
   "id": "06b31054",
   "metadata": {},
   "source": [
    "Neuberechnen der Geodaten und Distanz in den fehlerhaften Zeilen:"
   ]
  },
  {
   "cell_type": "code",
   "execution_count": 15,
   "id": "73068a66",
   "metadata": {},
   "outputs": [],
   "source": [
    "for row in faulty_rows:\n",
    "    geoc = gc.geocode(merged_df.loc[row][\"start\"])\n",
    "    merged_df.loc[row,(\"start_latitude\")] = geoc.latitude\n",
    "    merged_df.loc[row,(\"start_longitude\")] = geoc.longitude\n",
    "    merged_df.loc[row,(\"distanz\")] = haversine(geoc.longitude, geoc.latitude, merged_df.loc[row].ziel_longitude, merged_df.loc[row].ziel_latitude)"
   ]
  },
  {
   "cell_type": "markdown",
   "id": "caf7c37f",
   "metadata": {},
   "source": [
    "Kurzer Blick auf die Zeilen, um Korrekturen zu bestätigen:"
   ]
  },
  {
   "cell_type": "code",
   "execution_count": 16,
   "id": "cfe2bffc",
   "metadata": {
    "scrolled": false
   },
   "outputs": [
    {
     "data": {
      "text/html": [
       "<div>\n",
       "<style scoped>\n",
       "    .dataframe tbody tr th:only-of-type {\n",
       "        vertical-align: middle;\n",
       "    }\n",
       "\n",
       "    .dataframe tbody tr th {\n",
       "        vertical-align: top;\n",
       "    }\n",
       "\n",
       "    .dataframe thead th {\n",
       "        text-align: right;\n",
       "    }\n",
       "</style>\n",
       "<table border=\"1\" class=\"dataframe\">\n",
       "  <thead>\n",
       "    <tr style=\"text-align: right;\">\n",
       "      <th></th>\n",
       "      <th>person</th>\n",
       "      <th>datum_fahrt</th>\n",
       "      <th>start</th>\n",
       "      <th>ziel</th>\n",
       "      <th>datum_rechnung</th>\n",
       "      <th>betrag_rechnung</th>\n",
       "      <th>start_latitude</th>\n",
       "      <th>start_longitude</th>\n",
       "      <th>ziel_latitude</th>\n",
       "      <th>ziel_longitude</th>\n",
       "      <th>distanz</th>\n",
       "    </tr>\n",
       "    <tr>\n",
       "      <th>fahrt_id</th>\n",
       "      <th></th>\n",
       "      <th></th>\n",
       "      <th></th>\n",
       "      <th></th>\n",
       "      <th></th>\n",
       "      <th></th>\n",
       "      <th></th>\n",
       "      <th></th>\n",
       "      <th></th>\n",
       "      <th></th>\n",
       "      <th></th>\n",
       "    </tr>\n",
       "  </thead>\n",
       "  <tbody>\n",
       "    <tr>\n",
       "      <th>bf0003</th>\n",
       "      <td>O2577</td>\n",
       "      <td>2021-03-20</td>\n",
       "      <td>Repgowstraße 2, 50931 Köln</td>\n",
       "      <td>Bergstraße 6-12, 42105 Wuppertal</td>\n",
       "      <td>2021-04-13</td>\n",
       "      <td>94 EUR</td>\n",
       "      <td>50.929627</td>\n",
       "      <td>6.926728</td>\n",
       "      <td>51.259594</td>\n",
       "      <td>7.143416</td>\n",
       "      <td>39.688565</td>\n",
       "    </tr>\n",
       "    <tr>\n",
       "      <th>bf0007</th>\n",
       "      <td>S1650</td>\n",
       "      <td>2021-03-31</td>\n",
       "      <td>Vitalisstraße 202, 50827 Köln</td>\n",
       "      <td>Ostmerheimer Str. 200, 51109 Köln</td>\n",
       "      <td>2021-04-18</td>\n",
       "      <td>412 EUR</td>\n",
       "      <td>50.957331</td>\n",
       "      <td>6.897979</td>\n",
       "      <td>50.939504</td>\n",
       "      <td>7.053428</td>\n",
       "      <td>11.068928</td>\n",
       "    </tr>\n",
       "    <tr>\n",
       "      <th>bf0033</th>\n",
       "      <td>T6309</td>\n",
       "      <td>2021-05-08</td>\n",
       "      <td>Repgowstraße 2, 50931 Köln</td>\n",
       "      <td>Vogelsangstraße 106, 42109 Wuppertal</td>\n",
       "      <td>NaN</td>\n",
       "      <td>NaN</td>\n",
       "      <td>50.929627</td>\n",
       "      <td>6.926728</td>\n",
       "      <td>51.275106</td>\n",
       "      <td>7.141964</td>\n",
       "      <td>41.250447</td>\n",
       "    </tr>\n",
       "    <tr>\n",
       "      <th>bf0050</th>\n",
       "      <td>W4353</td>\n",
       "      <td>2021-05-23</td>\n",
       "      <td>Vitalisstraße 202, 50827 Köln</td>\n",
       "      <td>Ostmerheimer Str. 200, 51109 Köln</td>\n",
       "      <td>NaN</td>\n",
       "      <td>NaN</td>\n",
       "      <td>50.957331</td>\n",
       "      <td>6.897979</td>\n",
       "      <td>50.939504</td>\n",
       "      <td>7.053428</td>\n",
       "      <td>11.068928</td>\n",
       "    </tr>\n",
       "  </tbody>\n",
       "</table>\n",
       "</div>"
      ],
      "text/plain": [
       "         person datum_fahrt                          start  \\\n",
       "fahrt_id                                                     \n",
       "bf0003    O2577  2021-03-20     Repgowstraße 2, 50931 Köln   \n",
       "bf0007    S1650  2021-03-31  Vitalisstraße 202, 50827 Köln   \n",
       "bf0033    T6309  2021-05-08     Repgowstraße 2, 50931 Köln   \n",
       "bf0050    W4353  2021-05-23  Vitalisstraße 202, 50827 Köln   \n",
       "\n",
       "                                          ziel datum_rechnung betrag_rechnung  \\\n",
       "fahrt_id                                                                        \n",
       "bf0003        Bergstraße 6-12, 42105 Wuppertal     2021-04-13          94 EUR   \n",
       "bf0007       Ostmerheimer Str. 200, 51109 Köln     2021-04-18         412 EUR   \n",
       "bf0033    Vogelsangstraße 106, 42109 Wuppertal            NaN             NaN   \n",
       "bf0050       Ostmerheimer Str. 200, 51109 Köln            NaN             NaN   \n",
       "\n",
       "          start_latitude  start_longitude  ziel_latitude  ziel_longitude  \\\n",
       "fahrt_id                                                                   \n",
       "bf0003         50.929627         6.926728      51.259594        7.143416   \n",
       "bf0007         50.957331         6.897979      50.939504        7.053428   \n",
       "bf0033         50.929627         6.926728      51.275106        7.141964   \n",
       "bf0050         50.957331         6.897979      50.939504        7.053428   \n",
       "\n",
       "            distanz  \n",
       "fahrt_id             \n",
       "bf0003    39.688565  \n",
       "bf0007    11.068928  \n",
       "bf0033    41.250447  \n",
       "bf0050    11.068928  "
      ]
     },
     "execution_count": 16,
     "metadata": {},
     "output_type": "execute_result"
    }
   ],
   "source": [
    "merged_df.loc[faulty_rows]"
   ]
  },
  {
   "cell_type": "markdown",
   "id": "2693e98d",
   "metadata": {},
   "source": [
    "Zum Schluss, Konvertierung der Rechnungsbeträge zu Float:"
   ]
  },
  {
   "cell_type": "code",
   "execution_count": 17,
   "id": "e813a2ed",
   "metadata": {},
   "outputs": [
    {
     "data": {
      "text/plain": [
       "fahrt_id\n",
       "bf0001    285.0\n",
       "bf0002    353.0\n",
       "bf0003     94.0\n",
       "Name: betrag_rechnung, dtype: float64"
      ]
     },
     "execution_count": 17,
     "metadata": {},
     "output_type": "execute_result"
    }
   ],
   "source": [
    "merged_df[\"betrag_rechnung\"] = merged_df[\"betrag_rechnung\"].replace(\" EUR\",\"\", regex=True).astype(float)\n",
    "merged_df[\"betrag_rechnung\"].head(3)"
   ]
  },
  {
   "cell_type": "markdown",
   "id": "57384e6a",
   "metadata": {},
   "source": [
    "Letzter Blick auf den Datensatz:"
   ]
  },
  {
   "cell_type": "code",
   "execution_count": 18,
   "id": "9ed43f2e",
   "metadata": {},
   "outputs": [
    {
     "name": "stdout",
     "output_type": "stream",
     "text": [
      "<class 'pandas.core.frame.DataFrame'>\n",
      "Index: 60 entries, bf0001 to bf0060\n",
      "Data columns (total 11 columns):\n",
      " #   Column           Non-Null Count  Dtype  \n",
      "---  ------           --------------  -----  \n",
      " 0   person           60 non-null     object \n",
      " 1   datum_fahrt      60 non-null     object \n",
      " 2   start            60 non-null     object \n",
      " 3   ziel             60 non-null     object \n",
      " 4   datum_rechnung   30 non-null     object \n",
      " 5   betrag_rechnung  30 non-null     float64\n",
      " 6   start_latitude   60 non-null     float64\n",
      " 7   start_longitude  60 non-null     float64\n",
      " 8   ziel_latitude    60 non-null     float64\n",
      " 9   ziel_longitude   60 non-null     float64\n",
      " 10  distanz          60 non-null     float64\n",
      "dtypes: float64(6), object(5)\n",
      "memory usage: 7.7+ KB\n"
     ]
    }
   ],
   "source": [
    "merged_df.info()"
   ]
  },
  {
   "cell_type": "markdown",
   "id": "da38e204",
   "metadata": {},
   "source": [
    "### 5 Überführung in SQLite Datenbank"
   ]
  },
  {
   "cell_type": "markdown",
   "id": "5e3fd46b",
   "metadata": {},
   "source": [
    "Erzeugen einer neuen Datenbank im Ordner \"lvwr73_output\": "
   ]
  },
  {
   "cell_type": "code",
   "execution_count": 19,
   "id": "db093764",
   "metadata": {},
   "outputs": [],
   "source": [
    "os.remove(\"lvwr73_output/fahrten_dwh.sqlite\")# um alte Datei zu Demonstrationszwecken zu löschen\n",
    "engine = sa.create_engine(\"sqlite:///lvwr73_output/fahrten_dwh.sqlite\", echo=False)"
   ]
  },
  {
   "cell_type": "markdown",
   "id": "c37a6ca3",
   "metadata": {},
   "source": [
    "Schreiben des Dataframes in die Datenbank als neues Table \"FAHRTEN_ABRECHNUNG_RAW\":"
   ]
  },
  {
   "cell_type": "code",
   "execution_count": 20,
   "id": "f599ca56",
   "metadata": {},
   "outputs": [],
   "source": [
    "merged_df.to_sql(\"FAHRTEN_ABRECHNUNG_RAW\", con=engine, if_exists=\"replace\")"
   ]
  },
  {
   "cell_type": "markdown",
   "id": "e48039b7",
   "metadata": {},
   "source": [
    "Erzeugen der View \"FAHRTEN_ABRECHNUNG\":"
   ]
  },
  {
   "cell_type": "code",
   "execution_count": 21,
   "id": "aa6077fb",
   "metadata": {},
   "outputs": [],
   "source": [
    "connection = engine.connect()\n",
    "metadata = sa.MetaData()\n",
    "fahrten = sa.Table('FAHRTEN_ABRECHNUNG_RAW', metadata,\n",
    "        sa.Column('fahrt_id', sa.String, primary_key=True),\n",
    "        sa.Column('person', sa.String),\n",
    "        sa.Column('datum_fahrt', sa.String),\n",
    "        sa.Column('datum_rechnung', sa.String),\n",
    "        sa.Column('start', sa.String),\n",
    "        sa.Column('ziel', sa.String),\n",
    "        sa.Column('distanz', sa.Float),\n",
    "        sa.Column('betrag_rechnung', sa.Float)\n",
    "    )\n",
    "\n",
    "selection = sa.select([fahrten]).where(fahrten.columns.datum_rechnung.isnot(None))\n",
    "\n",
    "sau.create_view('FAHRTEN_ABRECHNUNG', selection, metadata)\n",
    "\n",
    "metadata.create_all(engine)\n"
   ]
  },
  {
   "cell_type": "code",
   "execution_count": 22,
   "id": "efee90ef",
   "metadata": {},
   "outputs": [],
   "source": [
    "connection.close()"
   ]
  }
 ],
 "metadata": {
  "kernelspec": {
   "display_name": "Python 3",
   "language": "python",
   "name": "python3"
  },
  "language_info": {
   "codemirror_mode": {
    "name": "ipython",
    "version": 3
   },
   "file_extension": ".py",
   "mimetype": "text/x-python",
   "name": "python",
   "nbconvert_exporter": "python",
   "pygments_lexer": "ipython3",
   "version": "3.8.10"
  }
 },
 "nbformat": 4,
 "nbformat_minor": 5
}
